{
  "nbformat": 4,
  "nbformat_minor": 0,
  "metadata": {
    "anaconda-cloud": {},
    "kernelspec": {
      "display_name": "Python 3",
      "language": "python",
      "name": "python3"
    },
    "language_info": {
      "codemirror_mode": {
        "name": "ipython",
        "version": 3
      },
      "file_extension": ".py",
      "mimetype": "text/x-python",
      "name": "python",
      "nbconvert_exporter": "python",
      "pygments_lexer": "ipython3",
      "version": "3.5.1"
    },
    "colab": {
      "provenance": [],
      "toc_visible": true,
      "include_colab_link": true
    }
  },
  "cells": [
    {
      "cell_type": "markdown",
      "metadata": {
        "id": "view-in-github",
        "colab_type": "text"
      },
      "source": [
        "<a href=\"https://colab.research.google.com/github/djgreen/AI-BootCamp/blob/main/AIBootCampPandasIntro1.ipynb\" target=\"_parent\"><img src=\"https://colab.research.google.com/assets/colab-badge.svg\" alt=\"Open In Colab\"/></a>"
      ]
    },
    {
      "cell_type": "markdown",
      "metadata": {
        "id": "NRo-6nI36Bfg"
      },
      "source": [
        "# Intro to pandas Data Structures\n",
        "**Authors**: \n",
        "- Dr. Jany Chan, The Ohio State University\n",
        "- Dr. Chaitanya Kulkarni, The Ohio State University\n",
        "- Prof. Raghu Machiraju, The Ohio State University\n",
        "\n",
        "---\n",
        "\n",
        "## Context\n",
        "The material here was developed by the authors for a professional masters course in data analytics. The enrolled students are often from all academic backgrounds. MDs, PharmDs, MBAs, etc. The goal of that program is to teach to data story telling in context.\n",
        "\n",
        "---\n",
        "\n",
        "## Objectives\n",
        "- Learn about pandas and what it provides\n",
        "- Learn about Series, Dataframe objects\n",
        "- Learn about indexing and selection\n",
        "- Learn about using functions in pandas"
      ]
    },
    {
      "cell_type": "markdown",
      "metadata": {
        "id": "HD2RyUlU6Bfh"
      },
      "source": [
        "---\n",
        "## pandas\n",
        "\n",
        "Before we start on our pandas' journey, remember that the functionality of pandas is rooted in a foundation of NumPy, meaning:\n",
        "1. Easy conversions from built-in Python data structures to NumPy `ndarrays` to pandas `DataFrames` and `Series`\n",
        "2. Accessing elements by indexing and slicing is the same when using indices\n",
        "\n",
        "**What are pandas objects in Python?**\n",
        "\n",
        "- Pandas data structures are enhanced versions of NumPy structured arrays \n",
        "- Rows and columns can be identified with labels as well as simple integer indices\n",
        "    - One basic tenet to keep in mind: **data alignment is intrinsic.**\n",
        "        - The link between labels and data will not be broken unless done so    explicitly by you.\n",
        "        - This means that **the ordering of the data does not matter** when manipulating the data structures.\n",
        "\n",
        "We will cover two fundamental pandas data structures:\n",
        "- ``Series``\n",
        "- ``DataFrame``"
      ]
    },
    {
      "cell_type": "code",
      "metadata": {
        "id": "1ckqFIjl6Bfi"
      },
      "source": [
        "# Let's import the necessary libraries\n",
        "import numpy as np\n",
        "import pandas as pd\n"
      ],
      "execution_count": null,
      "outputs": []
    },
    {
      "cell_type": "markdown",
      "metadata": {
        "id": "oE1msQqn6Bfl"
      },
      "source": [
        "## Pandas Series Object\n",
        "\n",
        "A pandas ``Series`` is a Python class that defines a one-dimensional array of indexed data. You can think of this data structure as a single column in an Excel spreadsheet."
      ]
    },
    {
      "cell_type": "markdown",
      "metadata": {
        "id": "cYy7-0qj6BgT"
      },
      "source": [
        "### Constructing Series objects\n",
        "\n",
        "There are multiple ways to construct a pandas ``Series`` and they all follow the same pattern:\n",
        "```python\n",
        ">>> pd.Series(data, index=index)\n",
        "```\n",
        "where ``index`` is an optional argument, and ``data`` can be one of many entities.\n",
        "\n",
        "\n",
        "For example, ``data`` can be a list or NumPy array and then ``index`` defaults to an integer sequence:"
      ]
    },
    {
      "cell_type": "code",
      "metadata": {
        "id": "OMOjKTwL6Bfm",
        "outputId": "c69b0a3b-f405-4e8c-de7a-4128da1d4878",
        "colab": {
          "base_uri": "https://localhost:8080/"
        }
      },
      "source": [
        "# We'll create a Series using the NumPy function `arange`\n",
        "# The default (implicit) index is the familiar Python index starting at 0\n",
        "data = pd.Series(np.arange(0, 1, 0.1))\n",
        "data"
      ],
      "execution_count": null,
      "outputs": [
        {
          "output_type": "execute_result",
          "data": {
            "text/plain": [
              "0    0.0\n",
              "1    0.1\n",
              "2    0.2\n",
              "3    0.3\n",
              "4    0.4\n",
              "5    0.5\n",
              "6    0.6\n",
              "7    0.7\n",
              "8    0.8\n",
              "9    0.9\n",
              "dtype: float64"
            ]
          },
          "metadata": {},
          "execution_count": 3
        }
      ]
    },
    {
      "cell_type": "markdown",
      "metadata": {
        "id": "PD4Ah1F86Bfp"
      },
      "source": [
        "A pandas ``Series`` inclues both:\n",
        "- a sequence of values\n",
        "- a sequence of indices\n",
        "\n",
        "which are  accessed with ``values`` and ``index`` attributes\n",
        "-  `values` is simply a familiar data structure: the NumPy array\n",
        "-  `index` is an object of type ``pd.Index``"
      ]
    },
    {
      "cell_type": "code",
      "metadata": {
        "id": "ZZf4xD-r6Bfq",
        "colab": {
          "base_uri": "https://localhost:8080/"
        },
        "outputId": "0b24b04b-f2fe-45da-f55f-d7c793748a4e"
      },
      "source": [
        "print(data.values)\n",
        "print(data.index)"
      ],
      "execution_count": null,
      "outputs": [
        {
          "output_type": "stream",
          "name": "stdout",
          "text": [
            "[0.  0.1 0.2 0.3 0.4 0.5 0.6 0.7 0.8 0.9]\n",
            "RangeIndex(start=0, stop=10, step=1)\n"
          ]
        }
      ]
    },
    {
      "cell_type": "markdown",
      "metadata": {
        "id": "BF16Aqsw6Bf5"
      },
      "source": [
        "### ``Series`` as generalized NumPy array\n",
        "\n",
        "- ``Series`` are basically interchangeable with a 1-D NumPy array\n",
        "\n",
        "The essential difference is the presence of the `index`\n",
        "- NumPy `array` has an *implicitly defined* integer index used to access the values\n",
        "- pandas ``Series`` has an *explicitly defined* index associated with the values\n",
        "- In NumPy, arrays can be accessed \"sequentially\" using the familiar \"start:stop:step\". \n",
        "- In pandas, objects have non-uniform, unstructured access, meaning:\n",
        "    - `index` does not need to be an integer, but can consist of values of any desired type\n",
        "    - Can use strings as an index (i.e. labels)\n",
        "\n",
        "**Note**: We'll explore this more in the next section [Pandas Data Indexing and Selection](https://colab.research.google.com/drive/1Uafik9EwMJdvi_Vf8MYbFtu581z-i1Lf?usp=sharing#scrollTo=Pandas_Data_Indexing_and_Selection)"
      ]
    },
    {
      "cell_type": "code",
      "metadata": {
        "id": "biZS3N0e6Bf6",
        "colab": {
          "base_uri": "https://localhost:8080/"
        },
        "outputId": "ed476109-c323-4f22-b498-e1587c88f315"
      },
      "source": [
        "# Aside from the familiar [start:stop:step], pandas has another method for indexing: labels\n",
        "# Here, we've used a Python list to create a Series and defined the index\n",
        "data = pd.Series([0.25, 0.5, 0.75, 1.0],\n",
        "                 index=['alice', 'bob', 'charlie', 'david'])\n",
        "\n",
        "# Now we can access the element we want using its label\n",
        "data['alice']"
      ],
      "execution_count": null,
      "outputs": [
        {
          "output_type": "execute_result",
          "data": {
            "text/plain": [
              "0.25"
            ]
          },
          "metadata": {},
          "execution_count": 5
        }
      ]
    },
    {
      "cell_type": "markdown",
      "metadata": {
        "id": "C4dUGO2A6BgJ"
      },
      "source": [
        "### Series as specialized dictionary\n",
        "Recall that a Python dictionary is a data structure that maps  **arbitrary** `keys` to a set of **arbitrary** `values`\n",
        "-  pandas``Series`` are a structure which maps **typed** `keys` to a set of **typed** `values`.\n",
        "-  The data type of a pandas ``Series`` makes it much more efficient than Python dictionaries for certain operations.\n",
        "\n",
        "The ``Series``-as-dictionary analogy can be made even more clear by constructing a ``Series`` object directly from a Python dictionary:"
      ]
    },
    {
      "cell_type": "code",
      "metadata": {
        "id": "fYTlDhvl6BgK",
        "colab": {
          "base_uri": "https://localhost:8080/"
        },
        "outputId": "a542cf41-613d-4a62-8d11-3524681ae556"
      },
      "source": [
        "# Here, we've created a dictionary mapping states to population\n",
        "population_dict = {'California': 38332521,\n",
        "                   'Texas': 26448193,\n",
        "                   'New York': 19651127,\n",
        "                   'Florida': 19552860,\n",
        "                   'Illinois': 12882135}\n",
        "\n",
        "# This dictionary can be directly transformed into a pandas Series\n",
        "population = pd.Series(population_dict)\n",
        "population"
      ],
      "execution_count": null,
      "outputs": [
        {
          "output_type": "execute_result",
          "data": {
            "text/plain": [
              "California    38332521\n",
              "Texas         26448193\n",
              "New York      19651127\n",
              "Florida       19552860\n",
              "Illinois      12882135\n",
              "dtype: int64"
            ]
          },
          "metadata": {},
          "execution_count": 6
        }
      ]
    },
    {
      "cell_type": "markdown",
      "metadata": {
        "id": "NRB6sjng6BgN"
      },
      "source": [
        "By default, a ``Series`` will be created where the index is defined from the sorted keys (if implicit). Thus, typical dictionary-style item access can be performed:"
      ]
    },
    {
      "cell_type": "code",
      "metadata": {
        "id": "_UhyZzJn6BgN",
        "colab": {
          "base_uri": "https://localhost:8080/"
        },
        "outputId": "66d21309-465e-42cc-e175-4acfdc9735fd"
      },
      "source": [
        "population['California']"
      ],
      "execution_count": null,
      "outputs": [
        {
          "output_type": "execute_result",
          "data": {
            "text/plain": [
              "38332521"
            ]
          },
          "metadata": {},
          "execution_count": 7
        }
      ]
    },
    {
      "cell_type": "markdown",
      "metadata": {
        "id": "FfjdZmoQ6BgQ"
      },
      "source": [
        "Unlike a dictionary, though, the ``Series`` also supports array-style operations such as slicing:"
      ]
    },
    {
      "cell_type": "code",
      "metadata": {
        "id": "K0xpYJOS6BgQ",
        "colab": {
          "base_uri": "https://localhost:8080/"
        },
        "outputId": "d96dc23c-4222-4e9a-c51b-16da10a17fb7"
      },
      "source": [
        "population['California':'New York']"
      ],
      "execution_count": null,
      "outputs": [
        {
          "output_type": "execute_result",
          "data": {
            "text/plain": [
              "California    38332521\n",
              "Texas         26448193\n",
              "New York      19651127\n",
              "dtype: int64"
            ]
          },
          "metadata": {},
          "execution_count": 8
        }
      ]
    },
    {
      "cell_type": "markdown",
      "metadata": {
        "id": "IbI-QynA6Bgf"
      },
      "source": [
        "## Pandas DataFrame Object\n",
        "\n",
        "The next fundamental structure in pandas is the ``DataFrame``. Think of this as a single sheet in Excel."
      ]
    },
    {
      "cell_type": "code",
      "metadata": {
        "id": "22bOyYao6Bgh",
        "colab": {
          "base_uri": "https://localhost:8080/",
          "height": 206
        },
        "outputId": "bbad022c-2683-4cc4-c181-b970cc45b27e"
      },
      "source": [
        "# First, let's start with another Python dictionary\n",
        "area_dict = {'Texas': 695662, 'New York': 141297, 'Illinois': 149995, \n",
        "             'Florida': 170312, 'California': 423967}\n",
        "\n",
        "# The dictionary is used to create another pandas Series\n",
        "area = pd.Series(area_dict)\n",
        "\n",
        "# Recall the population Series that we created in the Series section above.\n",
        "# Both Series are indexed by state name, thus we can use them to construct \n",
        "# a single 2-D object containing all the information:\n",
        "states = pd.DataFrame({'population': population,\n",
        "                       'area': area})\n",
        "states\n",
        "\n",
        "# Note: The order of the elements in each Series does not matter because they \n",
        "# are indexed. When generating or manipulating a new DataFrame, values are \n",
        "# matched by index."
      ],
      "execution_count": null,
      "outputs": [
        {
          "output_type": "execute_result",
          "data": {
            "text/html": [
              "<div>\n",
              "<style scoped>\n",
              "    .dataframe tbody tr th:only-of-type {\n",
              "        vertical-align: middle;\n",
              "    }\n",
              "\n",
              "    .dataframe tbody tr th {\n",
              "        vertical-align: top;\n",
              "    }\n",
              "\n",
              "    .dataframe thead th {\n",
              "        text-align: right;\n",
              "    }\n",
              "</style>\n",
              "<table border=\"1\" class=\"dataframe\">\n",
              "  <thead>\n",
              "    <tr style=\"text-align: right;\">\n",
              "      <th></th>\n",
              "      <th>population</th>\n",
              "      <th>area</th>\n",
              "    </tr>\n",
              "  </thead>\n",
              "  <tbody>\n",
              "    <tr>\n",
              "      <th>California</th>\n",
              "      <td>38332521</td>\n",
              "      <td>423967</td>\n",
              "    </tr>\n",
              "    <tr>\n",
              "      <th>Florida</th>\n",
              "      <td>19552860</td>\n",
              "      <td>170312</td>\n",
              "    </tr>\n",
              "    <tr>\n",
              "      <th>Illinois</th>\n",
              "      <td>12882135</td>\n",
              "      <td>149995</td>\n",
              "    </tr>\n",
              "    <tr>\n",
              "      <th>New York</th>\n",
              "      <td>19651127</td>\n",
              "      <td>141297</td>\n",
              "    </tr>\n",
              "    <tr>\n",
              "      <th>Texas</th>\n",
              "      <td>26448193</td>\n",
              "      <td>695662</td>\n",
              "    </tr>\n",
              "  </tbody>\n",
              "</table>\n",
              "</div>"
            ],
            "text/plain": [
              "            population    area\n",
              "California    38332521  423967\n",
              "Florida       19552860  170312\n",
              "Illinois      12882135  149995\n",
              "New York      19651127  141297\n",
              "Texas         26448193  695662"
            ]
          },
          "metadata": {},
          "execution_count": 9
        }
      ]
    },
    {
      "cell_type": "markdown",
      "metadata": {
        "id": "lk0vwJbr6Bgm"
      },
      "source": [
        "Like ``Series`` object,  ``DataFrame`` has an ``index`` attribute that gives access to the index labels.\n",
        "\n",
        "Additionally, ``DataFrame`` has a ``columns`` attribute, which is an ``Index`` object holding the column labels."
      ]
    },
    {
      "cell_type": "code",
      "metadata": {
        "id": "V_tA0Mbt6Bgm",
        "colab": {
          "base_uri": "https://localhost:8080/"
        },
        "outputId": "2d8d128a-0ce5-4a13-a86f-f3f65c118b96"
      },
      "source": [
        "print(states.index)\n",
        "print(states.columns)"
      ],
      "execution_count": null,
      "outputs": [
        {
          "output_type": "stream",
          "name": "stdout",
          "text": [
            "Index(['California', 'Florida', 'Illinois', 'New York', 'Texas'], dtype='object')\n",
            "Index(['population', 'area'], dtype='object')\n"
          ]
        }
      ]
    },
    {
      "cell_type": "markdown",
      "metadata": {
        "id": "84lTsno-6Bgs"
      },
      "source": [
        "### DataFrame as specialized dictionary\n",
        "\n",
        "- We can also think of a ``DataFrame`` as a specialization of a dictionary.\n",
        "- A  dictionary maps a key to a value, while a ``DataFrame`` maps a column name to a ``Series`` of column data.\n",
        "- For instance, asking for the  ``'area'`` attribute returns the ``Series`` object containing the areas."
      ]
    },
    {
      "cell_type": "code",
      "metadata": {
        "id": "bJ37X3_H6Bgs",
        "colab": {
          "base_uri": "https://localhost:8080/"
        },
        "outputId": "dfb00b67-12e1-409f-d9c9-92a140bf1c0a"
      },
      "source": [
        "states['area']"
      ],
      "execution_count": null,
      "outputs": [
        {
          "output_type": "execute_result",
          "data": {
            "text/plain": [
              "California    423967\n",
              "Florida       170312\n",
              "Illinois      149995\n",
              "New York      141297\n",
              "Texas         695662\n",
              "Name: area, dtype: int64"
            ]
          },
          "metadata": {},
          "execution_count": 11
        }
      ]
    },
    {
      "cell_type": "markdown",
      "metadata": {
        "id": "6zyWJ_hA6Bgv"
      },
      "source": [
        "### Constructing DataFrame objects\n",
        "\n",
        "A pandas ``DataFrame`` can be constructed in a variety of ways.\n",
        "Here we'll give several examples."
      ]
    },
    {
      "cell_type": "markdown",
      "metadata": {
        "id": "DsUtVcsu6Bgw"
      },
      "source": [
        "#### From a single Series object\n",
        "\n",
        "A ``DataFrame`` is a collection of ``Series`` objects, and a single-column ``DataFrame`` can be constructed from a single ``Series``:"
      ]
    },
    {
      "cell_type": "code",
      "metadata": {
        "id": "VfMBaFJk6Bgw",
        "colab": {
          "base_uri": "https://localhost:8080/",
          "height": 206
        },
        "outputId": "15ea8cb3-6bf5-4a6d-fb55-5ea19a487d97"
      },
      "source": [
        "pd.DataFrame(population, columns=['population'])"
      ],
      "execution_count": null,
      "outputs": [
        {
          "output_type": "execute_result",
          "data": {
            "text/html": [
              "<div>\n",
              "<style scoped>\n",
              "    .dataframe tbody tr th:only-of-type {\n",
              "        vertical-align: middle;\n",
              "    }\n",
              "\n",
              "    .dataframe tbody tr th {\n",
              "        vertical-align: top;\n",
              "    }\n",
              "\n",
              "    .dataframe thead th {\n",
              "        text-align: right;\n",
              "    }\n",
              "</style>\n",
              "<table border=\"1\" class=\"dataframe\">\n",
              "  <thead>\n",
              "    <tr style=\"text-align: right;\">\n",
              "      <th></th>\n",
              "      <th>population</th>\n",
              "    </tr>\n",
              "  </thead>\n",
              "  <tbody>\n",
              "    <tr>\n",
              "      <th>California</th>\n",
              "      <td>38332521</td>\n",
              "    </tr>\n",
              "    <tr>\n",
              "      <th>Texas</th>\n",
              "      <td>26448193</td>\n",
              "    </tr>\n",
              "    <tr>\n",
              "      <th>New York</th>\n",
              "      <td>19651127</td>\n",
              "    </tr>\n",
              "    <tr>\n",
              "      <th>Florida</th>\n",
              "      <td>19552860</td>\n",
              "    </tr>\n",
              "    <tr>\n",
              "      <th>Illinois</th>\n",
              "      <td>12882135</td>\n",
              "    </tr>\n",
              "  </tbody>\n",
              "</table>\n",
              "</div>"
            ],
            "text/plain": [
              "            population\n",
              "California    38332521\n",
              "Texas         26448193\n",
              "New York      19651127\n",
              "Florida       19552860\n",
              "Illinois      12882135"
            ]
          },
          "metadata": {},
          "execution_count": 12
        }
      ]
    },
    {
      "cell_type": "markdown",
      "metadata": {
        "id": "6FpuF2zr6Bgy"
      },
      "source": [
        "#### From a list of dicts\n",
        "\n",
        "Any list of dictionaries can be made into a ``DataFrame``.\n",
        "We'll use a simple list comprehension to create some data:"
      ]
    },
    {
      "cell_type": "code",
      "metadata": {
        "id": "jZ9nVthP6Bgy",
        "colab": {
          "base_uri": "https://localhost:8080/",
          "height": 143
        },
        "outputId": "c4ed882a-c075-439d-aed0-10bc1cdf74e9"
      },
      "source": [
        "data = [{'a': i, 'b': 2 * i} for i in range(3)]\n",
        "pd.DataFrame(data)"
      ],
      "execution_count": null,
      "outputs": [
        {
          "output_type": "execute_result",
          "data": {
            "text/html": [
              "<div>\n",
              "<style scoped>\n",
              "    .dataframe tbody tr th:only-of-type {\n",
              "        vertical-align: middle;\n",
              "    }\n",
              "\n",
              "    .dataframe tbody tr th {\n",
              "        vertical-align: top;\n",
              "    }\n",
              "\n",
              "    .dataframe thead th {\n",
              "        text-align: right;\n",
              "    }\n",
              "</style>\n",
              "<table border=\"1\" class=\"dataframe\">\n",
              "  <thead>\n",
              "    <tr style=\"text-align: right;\">\n",
              "      <th></th>\n",
              "      <th>a</th>\n",
              "      <th>b</th>\n",
              "    </tr>\n",
              "  </thead>\n",
              "  <tbody>\n",
              "    <tr>\n",
              "      <th>0</th>\n",
              "      <td>0</td>\n",
              "      <td>0</td>\n",
              "    </tr>\n",
              "    <tr>\n",
              "      <th>1</th>\n",
              "      <td>1</td>\n",
              "      <td>2</td>\n",
              "    </tr>\n",
              "    <tr>\n",
              "      <th>2</th>\n",
              "      <td>2</td>\n",
              "      <td>4</td>\n",
              "    </tr>\n",
              "  </tbody>\n",
              "</table>\n",
              "</div>"
            ],
            "text/plain": [
              "   a  b\n",
              "0  0  0\n",
              "1  1  2\n",
              "2  2  4"
            ]
          },
          "metadata": {},
          "execution_count": 13
        }
      ]
    },
    {
      "cell_type": "markdown",
      "metadata": {
        "id": "MZMwxn0H6Bg1"
      },
      "source": [
        "Note, if some keys in the dictionary are missing, pandas will use ``NaN`` (i.e., \"not a number\") as values:"
      ]
    },
    {
      "cell_type": "code",
      "metadata": {
        "id": "poA-Z4pJ6Bg2",
        "colab": {
          "base_uri": "https://localhost:8080/",
          "height": 112
        },
        "outputId": "a859f1f9-ce2f-47b4-c745-f8cb6b9f5bf2"
      },
      "source": [
        "pd.DataFrame([{'a': 1, 'b': 2}, {'b': 3, 'c': 4}])"
      ],
      "execution_count": null,
      "outputs": [
        {
          "output_type": "execute_result",
          "data": {
            "text/html": [
              "<div>\n",
              "<style scoped>\n",
              "    .dataframe tbody tr th:only-of-type {\n",
              "        vertical-align: middle;\n",
              "    }\n",
              "\n",
              "    .dataframe tbody tr th {\n",
              "        vertical-align: top;\n",
              "    }\n",
              "\n",
              "    .dataframe thead th {\n",
              "        text-align: right;\n",
              "    }\n",
              "</style>\n",
              "<table border=\"1\" class=\"dataframe\">\n",
              "  <thead>\n",
              "    <tr style=\"text-align: right;\">\n",
              "      <th></th>\n",
              "      <th>a</th>\n",
              "      <th>b</th>\n",
              "      <th>c</th>\n",
              "    </tr>\n",
              "  </thead>\n",
              "  <tbody>\n",
              "    <tr>\n",
              "      <th>0</th>\n",
              "      <td>1.0</td>\n",
              "      <td>2</td>\n",
              "      <td>NaN</td>\n",
              "    </tr>\n",
              "    <tr>\n",
              "      <th>1</th>\n",
              "      <td>NaN</td>\n",
              "      <td>3</td>\n",
              "      <td>4.0</td>\n",
              "    </tr>\n",
              "  </tbody>\n",
              "</table>\n",
              "</div>"
            ],
            "text/plain": [
              "     a  b    c\n",
              "0  1.0  2  NaN\n",
              "1  NaN  3  4.0"
            ]
          },
          "metadata": {},
          "execution_count": 14
        }
      ]
    },
    {
      "cell_type": "markdown",
      "metadata": {
        "id": "wAerRmKv6Bg6"
      },
      "source": [
        "#### From a two-dimensional NumPy array\n",
        "\n",
        "- Given a two-dimensional array of data, we can create a ``DataFrame`` with any specified column and index names.\n",
        "- If omitted, an integer index will be used for each:"
      ]
    },
    {
      "cell_type": "code",
      "metadata": {
        "id": "WV1V1BL-6Bg7",
        "colab": {
          "base_uri": "https://localhost:8080/",
          "height": 143
        },
        "outputId": "4a09f654-c975-4a79-8f94-fb9d33d324af"
      },
      "source": [
        "pd.DataFrame(np.random.rand(3, 2),\n",
        "             columns=['foo', 'bar'],\n",
        "             index=['a', 'b', 'c'])"
      ],
      "execution_count": null,
      "outputs": [
        {
          "output_type": "execute_result",
          "data": {
            "text/html": [
              "<div>\n",
              "<style scoped>\n",
              "    .dataframe tbody tr th:only-of-type {\n",
              "        vertical-align: middle;\n",
              "    }\n",
              "\n",
              "    .dataframe tbody tr th {\n",
              "        vertical-align: top;\n",
              "    }\n",
              "\n",
              "    .dataframe thead th {\n",
              "        text-align: right;\n",
              "    }\n",
              "</style>\n",
              "<table border=\"1\" class=\"dataframe\">\n",
              "  <thead>\n",
              "    <tr style=\"text-align: right;\">\n",
              "      <th></th>\n",
              "      <th>foo</th>\n",
              "      <th>bar</th>\n",
              "    </tr>\n",
              "  </thead>\n",
              "  <tbody>\n",
              "    <tr>\n",
              "      <th>a</th>\n",
              "      <td>0.759882</td>\n",
              "      <td>0.611878</td>\n",
              "    </tr>\n",
              "    <tr>\n",
              "      <th>b</th>\n",
              "      <td>0.548366</td>\n",
              "      <td>0.921287</td>\n",
              "    </tr>\n",
              "    <tr>\n",
              "      <th>c</th>\n",
              "      <td>0.614557</td>\n",
              "      <td>0.265547</td>\n",
              "    </tr>\n",
              "  </tbody>\n",
              "</table>\n",
              "</div>"
            ],
            "text/plain": [
              "        foo       bar\n",
              "a  0.759882  0.611878\n",
              "b  0.548366  0.921287\n",
              "c  0.614557  0.265547"
            ]
          },
          "metadata": {},
          "execution_count": 15
        }
      ]
    },
    {
      "cell_type": "markdown",
      "metadata": {
        "id": "NWVXBUpLGuqP"
      },
      "source": [
        "# Pandas Data Indexing and Selection"
      ]
    },
    {
      "cell_type": "markdown",
      "metadata": {
        "id": "lP5mzBnMGuqQ"
      },
      "source": [
        "When we covered NumPy, we studied methods and tools to access, set, and modify values in NumPy arrays, including:\n",
        "- indexing (e.g., ``arr[2, 1]``)\n",
        "- slicing (e.g., ``arr[:, 1:5]``)\n",
        "- masking or Boolean indexing (e.g., ``arr[arr > 0]``)\n",
        "- fancy indexing (e.g., ``arr[0, [1, 5]]``)\n",
        "- combinations thereof (e.g., ``arr[:, [1, 5]]``)\n",
        "\n",
        "These all hold true for accessing and modifying values in pandas 1-D `Series` and 2-D `DataFrame` objects.\n"
      ]
    },
    {
      "cell_type": "markdown",
      "metadata": {
        "id": "_qCImgmsGuqQ"
      },
      "source": [
        "## Data Selection in Series\n",
        "\n",
        "To recap, a ``Series`` object is akin to:\n",
        "- a 1-D NumPy array\n",
        "- a standard Python dictionary.\n"
      ]
    },
    {
      "cell_type": "markdown",
      "metadata": {
        "id": "2VBUHD5wGuqR"
      },
      "source": [
        "### Series as dictionary\n",
        " ``Series`` provide a mapping from a collection of keys to a collection of values or items:"
      ]
    },
    {
      "cell_type": "code",
      "metadata": {
        "id": "kOaJ_UjlGuqR",
        "colab": {
          "base_uri": "https://localhost:8080/"
        },
        "outputId": "bf4d5c45-c486-48d2-c695-2b3d9892a736"
      },
      "source": [
        "# Here's a simple pandas Series generated from a list with an explicit index\n",
        "data = pd.Series([0.25, 0.5, 0.75, 1.0],\n",
        "                 index=['w', 'x', 'y', 'z'])\n",
        "\n",
        "# To list the keys in a Series\n",
        "print(data.keys())\n",
        "\n",
        "# To check if an element is found within a collection:\n",
        "'z' in data"
      ],
      "execution_count": null,
      "outputs": [
        {
          "output_type": "stream",
          "name": "stdout",
          "text": [
            "Index(['w', 'x', 'y', 'z'], dtype='object')\n"
          ]
        },
        {
          "output_type": "execute_result",
          "data": {
            "text/plain": [
              "True"
            ]
          },
          "metadata": {},
          "execution_count": 16
        }
      ]
    },
    {
      "cell_type": "markdown",
      "metadata": {
        "id": "8XC-EHbJGuqj"
      },
      "source": [
        "``Series`` objects can be modified just like a dictionary using the same syntax:\n",
        "- A Python dictionary can be extended by assigning a new key, `e`\n",
        "- A pandas ``Series`` can be extended by assigning to a new label"
      ]
    },
    {
      "cell_type": "code",
      "metadata": {
        "id": "ttuESIVfGuqj",
        "colab": {
          "base_uri": "https://localhost:8080/"
        },
        "outputId": "32669d5f-5a51-4bac-d69c-c468a14ad87e"
      },
      "source": [
        "# Adding the new data 'e' to the Series `data`\n",
        "data['e'] = 1.25\n",
        "data"
      ],
      "execution_count": null,
      "outputs": [
        {
          "output_type": "execute_result",
          "data": {
            "text/plain": [
              "w    0.25\n",
              "x    0.50\n",
              "y    0.75\n",
              "z    1.00\n",
              "e    1.25\n",
              "dtype: float64"
            ]
          },
          "metadata": {},
          "execution_count": 17
        }
      ]
    },
    {
      "cell_type": "markdown",
      "metadata": {
        "id": "Z0aA2A4jGuqn"
      },
      "source": [
        "### Series as one-dimensional array"
      ]
    },
    {
      "cell_type": "markdown",
      "metadata": {
        "id": "_1iGYCggGuqn"
      },
      "source": [
        "``Series`` \n",
        "- builds on dictionary-like interface\n",
        "- provides array-style item selection via Numpy mechanisms incl.:\n",
        "  - *slicing*\n",
        "  - *masking*"
      ]
    },
    {
      "cell_type": "code",
      "metadata": {
        "id": "bhkblQ1LQVBX",
        "colab": {
          "base_uri": "https://localhost:8080/"
        },
        "outputId": "046e1047-e8ef-4abb-bb06-eddaf6ff4635"
      },
      "source": [
        "data = pd.Series([0.25, 0.5, 0.75, 1.0],\n",
        "                 index=['a', 'b', 'c', 'd'])\n",
        "\n",
        "# Array-like slicing by explicit index...\n",
        "print(data['a':'c'])\n",
        "\n",
        "# ...is the same as slicing by implicit integer index\n",
        "data[0:3]\n",
        "\n",
        "# Note: Slicing is a bit inconsistant in Python. There are two kinds of slicing:\n",
        "# (1) with an explicit index\n",
        "#     -- data['a':'c'] when the final or actual index is included in the slice\n",
        "# (2) with an implicit index\n",
        "#     -- data[0:3] when the final or actual index is excluded from the slice\n",
        "\n"
      ],
      "execution_count": null,
      "outputs": [
        {
          "output_type": "stream",
          "name": "stdout",
          "text": [
            "a    0.25\n",
            "b    0.50\n",
            "c    0.75\n",
            "dtype: float64\n"
          ]
        },
        {
          "output_type": "execute_result",
          "data": {
            "text/plain": [
              "a    0.25\n",
              "b    0.50\n",
              "c    0.75\n",
              "dtype: float64"
            ]
          },
          "metadata": {},
          "execution_count": 18
        }
      ]
    },
    {
      "cell_type": "code",
      "metadata": {
        "id": "A5LK77ACGuqt",
        "colab": {
          "base_uri": "https://localhost:8080/"
        },
        "outputId": "0745fe6c-d988-4d58-c909-13e4372ed4b2"
      },
      "source": [
        "# We can also perform masking or Boolean indexing \n",
        "# Recall that | stands for OR and & stands for AND\n",
        "data[(data < 0.33) | (data > 0.66)]"
      ],
      "execution_count": null,
      "outputs": [
        {
          "output_type": "execute_result",
          "data": {
            "text/plain": [
              "a    0.25\n",
              "c    0.75\n",
              "d    1.00\n",
              "dtype: float64"
            ]
          },
          "metadata": {},
          "execution_count": 19
        }
      ]
    },
    {
      "cell_type": "markdown",
      "metadata": {
        "id": "CwLjv8h3Guq0"
      },
      "source": [
        "### Indexers: loc and iloc\n",
        "Pandas provides special *indexer* attributes that explicitly expose indexing schemes\n",
        "-  ``loc`` allows indexing and slicing with the explicit index:"
      ]
    },
    {
      "cell_type": "code",
      "metadata": {
        "id": "hgSed7r4Guq-",
        "colab": {
          "base_uri": "https://localhost:8080/"
        },
        "outputId": "a65b050e-2c21-4395-8854-3ab7c6bfba7b"
      },
      "source": [
        "data = pd.Series([0.25, 0.5, 0.75, 1.0],\n",
        "                 index=['a', 'b', 'c', 'd'])\n",
        "\n",
        "data.loc['a']"
      ],
      "execution_count": null,
      "outputs": [
        {
          "output_type": "execute_result",
          "data": {
            "text/plain": [
              "0.25"
            ]
          },
          "metadata": {},
          "execution_count": 20
        }
      ]
    },
    {
      "cell_type": "code",
      "metadata": {
        "id": "L9Sl0HXaGurA",
        "colab": {
          "base_uri": "https://localhost:8080/"
        },
        "outputId": "4e53a0c7-0958-4f26-bc9c-581e8eff98dd"
      },
      "source": [
        "# The line below is the same as data['a':'c'] from above\n",
        "data.loc['a':'c']"
      ],
      "execution_count": null,
      "outputs": [
        {
          "output_type": "execute_result",
          "data": {
            "text/plain": [
              "a    0.25\n",
              "b    0.50\n",
              "c    0.75\n",
              "dtype: float64"
            ]
          },
          "metadata": {},
          "execution_count": 21
        }
      ]
    },
    {
      "cell_type": "markdown",
      "metadata": {
        "id": "Yed7SThLGurC"
      },
      "source": [
        "Also, the ``iloc`` attribute allows indexing and slicing with implicit Python-style index:"
      ]
    },
    {
      "cell_type": "code",
      "metadata": {
        "id": "FvHwqpaFGurD",
        "colab": {
          "base_uri": "https://localhost:8080/"
        },
        "outputId": "d7c7a26f-6faa-4d4c-9025-f4f8bf04383b"
      },
      "source": [
        "# This returns the same value as data['a'] and data.loc['a']\n",
        "data.iloc[0]"
      ],
      "execution_count": null,
      "outputs": [
        {
          "output_type": "execute_result",
          "data": {
            "text/plain": [
              "0.25"
            ]
          },
          "metadata": {},
          "execution_count": 22
        }
      ]
    },
    {
      "cell_type": "code",
      "metadata": {
        "id": "eZkSW-djGurG",
        "colab": {
          "base_uri": "https://localhost:8080/"
        },
        "outputId": "de548707-769d-44e5-e6d9-f14a3c8cc27a"
      },
      "source": [
        "# This is the same as data['a':'c'] and data.loc['a':'c']\n",
        "data.iloc[0:3]"
      ],
      "execution_count": null,
      "outputs": [
        {
          "output_type": "execute_result",
          "data": {
            "text/plain": [
              "a    0.25\n",
              "b    0.50\n",
              "c    0.75\n",
              "dtype: float64"
            ]
          },
          "metadata": {},
          "execution_count": 23
        }
      ]
    },
    {
      "cell_type": "markdown",
      "metadata": {
        "id": "m3y61WxiGurI"
      },
      "source": [
        "**Note**:\n",
        "- Choose one method of indexing and **stay consistant in its usage**\n",
        "- Explicit indexing is better than implicit.\n",
        "- The explicit nature of ``loc`` and ``iloc`` makes code readable thus preventing subtle bugs from mixed indexing/slicing convention."
      ]
    },
    {
      "cell_type": "markdown",
      "metadata": {
        "id": "7TeMJtRGGurI"
      },
      "source": [
        "## Data Selection in DataFrame\n",
        "\n",
        "A ``DataFrame`` acts like a \n",
        "-  2-D  structured array, or \n",
        "- a dictionary of ``Series`` structures sharing the same index.\n"
      ]
    },
    {
      "cell_type": "markdown",
      "metadata": {
        "id": "e9IuPbfuGurJ"
      },
      "source": [
        "### DataFrame as a dictionary\n",
        "Let us  consider ``DataFrame`` as a dictionary of related ``Series`` objects.\n",
        "\n",
        "Now, let us go back to the \"states\" of US example."
      ]
    },
    {
      "cell_type": "code",
      "metadata": {
        "id": "N6BDVF1IGurJ",
        "colab": {
          "base_uri": "https://localhost:8080/",
          "height": 206
        },
        "outputId": "6031c25b-c898-42da-b224-aae1de6ae5df"
      },
      "source": [
        "# Let's rebuild the states data. \n",
        "# Recall that order does not matter if there is an index\n",
        "area = pd.Series({'California': 423967, 'Texas': 695662, 'New York': 141297, \n",
        "                  'Florida': 170312, 'Illinois': 149995})\n",
        "pop = pd.Series({'New York': 19651127, 'Illinois': 12882135, 'Florida': 19552860, \n",
        "                 'Texas': 26448193, 'California': 38332521})\n",
        "\n",
        "data = pd.DataFrame({'area':area, 'pop':pop})\n",
        "data"
      ],
      "execution_count": null,
      "outputs": [
        {
          "output_type": "execute_result",
          "data": {
            "text/html": [
              "<div>\n",
              "<style scoped>\n",
              "    .dataframe tbody tr th:only-of-type {\n",
              "        vertical-align: middle;\n",
              "    }\n",
              "\n",
              "    .dataframe tbody tr th {\n",
              "        vertical-align: top;\n",
              "    }\n",
              "\n",
              "    .dataframe thead th {\n",
              "        text-align: right;\n",
              "    }\n",
              "</style>\n",
              "<table border=\"1\" class=\"dataframe\">\n",
              "  <thead>\n",
              "    <tr style=\"text-align: right;\">\n",
              "      <th></th>\n",
              "      <th>area</th>\n",
              "      <th>pop</th>\n",
              "    </tr>\n",
              "  </thead>\n",
              "  <tbody>\n",
              "    <tr>\n",
              "      <th>California</th>\n",
              "      <td>423967</td>\n",
              "      <td>38332521</td>\n",
              "    </tr>\n",
              "    <tr>\n",
              "      <th>Florida</th>\n",
              "      <td>170312</td>\n",
              "      <td>19552860</td>\n",
              "    </tr>\n",
              "    <tr>\n",
              "      <th>Illinois</th>\n",
              "      <td>149995</td>\n",
              "      <td>12882135</td>\n",
              "    </tr>\n",
              "    <tr>\n",
              "      <th>New York</th>\n",
              "      <td>141297</td>\n",
              "      <td>19651127</td>\n",
              "    </tr>\n",
              "    <tr>\n",
              "      <th>Texas</th>\n",
              "      <td>695662</td>\n",
              "      <td>26448193</td>\n",
              "    </tr>\n",
              "  </tbody>\n",
              "</table>\n",
              "</div>"
            ],
            "text/plain": [
              "              area       pop\n",
              "California  423967  38332521\n",
              "Florida     170312  19552860\n",
              "Illinois    149995  12882135\n",
              "New York    141297  19651127\n",
              "Texas       695662  26448193"
            ]
          },
          "metadata": {},
          "execution_count": 24
        }
      ]
    },
    {
      "cell_type": "markdown",
      "metadata": {
        "id": "Z9t8bXsYGurL"
      },
      "source": [
        "Individual ``Series`` that are columns of the ``DataFrame`` are accessed via dictionary-style indexing of  column name:"
      ]
    },
    {
      "cell_type": "code",
      "metadata": {
        "id": "2Mxd-SfaGurM",
        "colab": {
          "base_uri": "https://localhost:8080/"
        },
        "outputId": "3c2b6eff-b1cf-48eb-d376-c21c1d9494d6"
      },
      "source": [
        "data['area']"
      ],
      "execution_count": null,
      "outputs": [
        {
          "output_type": "execute_result",
          "data": {
            "text/plain": [
              "California    423967\n",
              "Florida       170312\n",
              "Illinois      149995\n",
              "New York      141297\n",
              "Texas         695662\n",
              "Name: area, dtype: int64"
            ]
          },
          "metadata": {},
          "execution_count": 25
        }
      ]
    },
    {
      "cell_type": "markdown",
      "metadata": {
        "id": "oVqeFgVPGurO"
      },
      "source": [
        "Equivalently, use attribute-style access with column names as strings:"
      ]
    },
    {
      "cell_type": "code",
      "metadata": {
        "id": "AIuvyoWvGurO",
        "colab": {
          "base_uri": "https://localhost:8080/"
        },
        "outputId": "060deb5e-c8f2-44bd-9d8b-4dd30927a59b"
      },
      "source": [
        "# Note that this method fails if the column name contains non-alphanumeric characters\n",
        "data.area"
      ],
      "execution_count": null,
      "outputs": [
        {
          "output_type": "execute_result",
          "data": {
            "text/plain": [
              "California    423967\n",
              "Florida       170312\n",
              "Illinois      149995\n",
              "New York      141297\n",
              "Texas         695662\n",
              "Name: area, dtype: int64"
            ]
          },
          "metadata": {},
          "execution_count": 26
        }
      ]
    },
    {
      "cell_type": "markdown",
      "metadata": {
        "id": "eobQmmsnGurQ"
      },
      "source": [
        "We can do a quick sanity check to see if attribute-style column access yields exact same object as dictionary-style access:"
      ]
    },
    {
      "cell_type": "code",
      "metadata": {
        "id": "x14_zu0CGurS",
        "colab": {
          "base_uri": "https://localhost:8080/"
        },
        "outputId": "14554da2-30bf-4d84-c976-edff4e7ac42a"
      },
      "source": [
        "# Recall comparing the values of two objects using the key word `is`\n",
        "# Is this different from using `==` ?\n",
        "data.area is data['area']\n"
      ],
      "execution_count": null,
      "outputs": [
        {
          "output_type": "execute_result",
          "data": {
            "text/plain": [
              "True"
            ]
          },
          "metadata": {},
          "execution_count": 27
        }
      ]
    },
    {
      "cell_type": "code",
      "metadata": {
        "id": "FHsNAn8-GurY",
        "colab": {
          "base_uri": "https://localhost:8080/",
          "height": 206
        },
        "outputId": "046b7ea0-147a-4522-eb22-f13758b3499d"
      },
      "source": [
        "# Like with Series, dictionary-style syntax can be used to modify the object. \n",
        "# In this case, we can add a new column named density simply by defining it:\n",
        "data['density'] = data['pop'] / data['area']\n",
        "data"
      ],
      "execution_count": null,
      "outputs": [
        {
          "output_type": "execute_result",
          "data": {
            "text/html": [
              "<div>\n",
              "<style scoped>\n",
              "    .dataframe tbody tr th:only-of-type {\n",
              "        vertical-align: middle;\n",
              "    }\n",
              "\n",
              "    .dataframe tbody tr th {\n",
              "        vertical-align: top;\n",
              "    }\n",
              "\n",
              "    .dataframe thead th {\n",
              "        text-align: right;\n",
              "    }\n",
              "</style>\n",
              "<table border=\"1\" class=\"dataframe\">\n",
              "  <thead>\n",
              "    <tr style=\"text-align: right;\">\n",
              "      <th></th>\n",
              "      <th>area</th>\n",
              "      <th>pop</th>\n",
              "      <th>density</th>\n",
              "    </tr>\n",
              "  </thead>\n",
              "  <tbody>\n",
              "    <tr>\n",
              "      <th>California</th>\n",
              "      <td>423967</td>\n",
              "      <td>38332521</td>\n",
              "      <td>90.413926</td>\n",
              "    </tr>\n",
              "    <tr>\n",
              "      <th>Florida</th>\n",
              "      <td>170312</td>\n",
              "      <td>19552860</td>\n",
              "      <td>114.806121</td>\n",
              "    </tr>\n",
              "    <tr>\n",
              "      <th>Illinois</th>\n",
              "      <td>149995</td>\n",
              "      <td>12882135</td>\n",
              "      <td>85.883763</td>\n",
              "    </tr>\n",
              "    <tr>\n",
              "      <th>New York</th>\n",
              "      <td>141297</td>\n",
              "      <td>19651127</td>\n",
              "      <td>139.076746</td>\n",
              "    </tr>\n",
              "    <tr>\n",
              "      <th>Texas</th>\n",
              "      <td>695662</td>\n",
              "      <td>26448193</td>\n",
              "      <td>38.018740</td>\n",
              "    </tr>\n",
              "  </tbody>\n",
              "</table>\n",
              "</div>"
            ],
            "text/plain": [
              "              area       pop     density\n",
              "California  423967  38332521   90.413926\n",
              "Florida     170312  19552860  114.806121\n",
              "Illinois    149995  12882135   85.883763\n",
              "New York    141297  19651127  139.076746\n",
              "Texas       695662  26448193   38.018740"
            ]
          },
          "metadata": {},
          "execution_count": 28
        }
      ]
    },
    {
      "cell_type": "markdown",
      "metadata": {
        "id": "GKENOTT4Gurb"
      },
      "source": [
        "### DataFrame as two-dimensional array\n",
        "\n",
        " ``DataFrame`` is  an enhanced two-dimensional array where we can examine the underlying data using the ``values`` attribute:"
      ]
    },
    {
      "cell_type": "code",
      "metadata": {
        "id": "Y4svqhlCGurb",
        "colab": {
          "base_uri": "https://localhost:8080/"
        },
        "outputId": "93e1d8c2-b257-468c-98c5-d715f1101cec"
      },
      "source": [
        "# What data structure is returned by data.value?\n",
        "# Recall the built-in Python function: type()\n",
        "# How is this different from the pandas dtype (Try `data.values.dtype`)?\n",
        "data.values\n",
        "\n",
        "# Let's rebuild the original DataFrame\n",
        "area = pd.Series({'California': 423967, 'Texas': 695662,\n",
        "                  'New York': 141297, 'Florida': 170312,\n",
        "                  'Illinois': 149995})\n",
        "\n",
        "pop = pd.Series({'California': 38332521, 'Texas': 26448193,\n",
        "                 'New York': 19651127, 'Florida': 19552860,\n",
        "                 'Illinois': 12882135})\n",
        "\n",
        "data = pd.DataFrame({'area':area, 'pop':pop})\n",
        "\n",
        "data['density'] = data['pop'] / data['area']\n",
        "data"
      ],
      "execution_count": null,
      "outputs": [
        {
          "output_type": "execute_result",
          "data": {
            "text/plain": [
              "array([[4.23967000e+05, 3.83325210e+07, 9.04139261e+01],\n",
              "       [1.70312000e+05, 1.95528600e+07, 1.14806121e+02],\n",
              "       [1.49995000e+05, 1.28821350e+07, 8.58837628e+01],\n",
              "       [1.41297000e+05, 1.96511270e+07, 1.39076746e+02],\n",
              "       [6.95662000e+05, 2.64481930e+07, 3.80187404e+01]])"
            ]
          },
          "metadata": {},
          "execution_count": 29
        }
      ]
    },
    {
      "cell_type": "markdown",
      "metadata": {
        "collapsed": true,
        "id": "uTrVi8mjGurm"
      },
      "source": [
        "For array-style indexing, pandas uses the ``loc`` and ``iloc`` indexers. \n",
        "\n",
        "Using the ``iloc`` indexer, you can index the underlying array as a simple NumPy array (using the implicit Python-style index). However, ``DataFrame`` index and column labels are maintained in the result:"
      ]
    },
    {
      "cell_type": "code",
      "metadata": {
        "id": "_Ojk6BjNGurm",
        "colab": {
          "base_uri": "https://localhost:8080/",
          "height": 143
        },
        "outputId": "e3c5d637-31b4-442a-ad0c-c28390ee1576"
      },
      "source": [
        "# Just like with 2-D NumPy arrays, iloc is formatted as [row, col]\n",
        "# And for each dimension, we need to define start:stop:step when slicing\n",
        "data.iloc[:3, :3]"
      ],
      "execution_count": null,
      "outputs": [
        {
          "output_type": "execute_result",
          "data": {
            "text/html": [
              "<div>\n",
              "<style scoped>\n",
              "    .dataframe tbody tr th:only-of-type {\n",
              "        vertical-align: middle;\n",
              "    }\n",
              "\n",
              "    .dataframe tbody tr th {\n",
              "        vertical-align: top;\n",
              "    }\n",
              "\n",
              "    .dataframe thead th {\n",
              "        text-align: right;\n",
              "    }\n",
              "</style>\n",
              "<table border=\"1\" class=\"dataframe\">\n",
              "  <thead>\n",
              "    <tr style=\"text-align: right;\">\n",
              "      <th></th>\n",
              "      <th>area</th>\n",
              "      <th>pop</th>\n",
              "      <th>density</th>\n",
              "    </tr>\n",
              "  </thead>\n",
              "  <tbody>\n",
              "    <tr>\n",
              "      <th>California</th>\n",
              "      <td>423967</td>\n",
              "      <td>38332521</td>\n",
              "      <td>90.413926</td>\n",
              "    </tr>\n",
              "    <tr>\n",
              "      <th>Texas</th>\n",
              "      <td>695662</td>\n",
              "      <td>26448193</td>\n",
              "      <td>38.018740</td>\n",
              "    </tr>\n",
              "    <tr>\n",
              "      <th>New York</th>\n",
              "      <td>141297</td>\n",
              "      <td>19651127</td>\n",
              "      <td>139.076746</td>\n",
              "    </tr>\n",
              "  </tbody>\n",
              "</table>\n",
              "</div>"
            ],
            "text/plain": [
              "              area       pop     density\n",
              "California  423967  38332521   90.413926\n",
              "Texas       695662  26448193   38.018740\n",
              "New York    141297  19651127  139.076746"
            ]
          },
          "metadata": {},
          "execution_count": 31
        }
      ]
    },
    {
      "cell_type": "code",
      "metadata": {
        "id": "pUodYaU1Gurp",
        "colab": {
          "base_uri": "https://localhost:8080/",
          "height": 175
        },
        "outputId": "f41ada82-719b-4991-a472-e358f701d210"
      },
      "source": [
        "# However, with pandas, we can do the same using the `loc` indexer and explicit index and column names:\n",
        "data.loc[:'Florida', :'density']"
      ],
      "execution_count": null,
      "outputs": [
        {
          "output_type": "execute_result",
          "data": {
            "text/html": [
              "<div>\n",
              "<style scoped>\n",
              "    .dataframe tbody tr th:only-of-type {\n",
              "        vertical-align: middle;\n",
              "    }\n",
              "\n",
              "    .dataframe tbody tr th {\n",
              "        vertical-align: top;\n",
              "    }\n",
              "\n",
              "    .dataframe thead th {\n",
              "        text-align: right;\n",
              "    }\n",
              "</style>\n",
              "<table border=\"1\" class=\"dataframe\">\n",
              "  <thead>\n",
              "    <tr style=\"text-align: right;\">\n",
              "      <th></th>\n",
              "      <th>area</th>\n",
              "      <th>pop</th>\n",
              "      <th>density</th>\n",
              "    </tr>\n",
              "  </thead>\n",
              "  <tbody>\n",
              "    <tr>\n",
              "      <th>California</th>\n",
              "      <td>423967</td>\n",
              "      <td>38332521</td>\n",
              "      <td>90.413926</td>\n",
              "    </tr>\n",
              "    <tr>\n",
              "      <th>Texas</th>\n",
              "      <td>695662</td>\n",
              "      <td>26448193</td>\n",
              "      <td>38.018740</td>\n",
              "    </tr>\n",
              "    <tr>\n",
              "      <th>New York</th>\n",
              "      <td>141297</td>\n",
              "      <td>19651127</td>\n",
              "      <td>139.076746</td>\n",
              "    </tr>\n",
              "    <tr>\n",
              "      <th>Florida</th>\n",
              "      <td>170312</td>\n",
              "      <td>19552860</td>\n",
              "      <td>114.806121</td>\n",
              "    </tr>\n",
              "  </tbody>\n",
              "</table>\n",
              "</div>"
            ],
            "text/plain": [
              "              area       pop     density\n",
              "California  423967  38332521   90.413926\n",
              "Texas       695662  26448193   38.018740\n",
              "New York    141297  19651127  139.076746\n",
              "Florida     170312  19552860  114.806121"
            ]
          },
          "metadata": {},
          "execution_count": 32
        }
      ]
    },
    {
      "cell_type": "code",
      "metadata": {
        "id": "BBmNmQYnGurv",
        "colab": {
          "base_uri": "https://localhost:8080/",
          "height": 112
        },
        "outputId": "b3acd778-57ca-43d6-fc88-3c306f6e3699"
      },
      "source": [
        "# Any familiar NumPy-style data access patterns can be used. \n",
        "# For example, we can combine masking and fancy indexing:\n",
        "# In English, what are we actually doing in Line 4?\n",
        "data.loc[data.density > 100, ['area', 'density']]\n"
      ],
      "execution_count": null,
      "outputs": [
        {
          "output_type": "execute_result",
          "data": {
            "text/html": [
              "<div>\n",
              "<style scoped>\n",
              "    .dataframe tbody tr th:only-of-type {\n",
              "        vertical-align: middle;\n",
              "    }\n",
              "\n",
              "    .dataframe tbody tr th {\n",
              "        vertical-align: top;\n",
              "    }\n",
              "\n",
              "    .dataframe thead th {\n",
              "        text-align: right;\n",
              "    }\n",
              "</style>\n",
              "<table border=\"1\" class=\"dataframe\">\n",
              "  <thead>\n",
              "    <tr style=\"text-align: right;\">\n",
              "      <th></th>\n",
              "      <th>area</th>\n",
              "      <th>density</th>\n",
              "    </tr>\n",
              "  </thead>\n",
              "  <tbody>\n",
              "    <tr>\n",
              "      <th>New York</th>\n",
              "      <td>141297</td>\n",
              "      <td>139.076746</td>\n",
              "    </tr>\n",
              "    <tr>\n",
              "      <th>Florida</th>\n",
              "      <td>170312</td>\n",
              "      <td>114.806121</td>\n",
              "    </tr>\n",
              "  </tbody>\n",
              "</table>\n",
              "</div>"
            ],
            "text/plain": [
              "            area     density\n",
              "New York  141297  139.076746\n",
              "Florida   170312  114.806121"
            ]
          },
          "metadata": {},
          "execution_count": 33
        }
      ]
    },
    {
      "cell_type": "code",
      "metadata": {
        "id": "9RqcUw6fGurz",
        "colab": {
          "base_uri": "https://localhost:8080/",
          "height": 206
        },
        "outputId": "a803bcd2-6a8e-4a05-9fc0-910a289ec1f8"
      },
      "source": [
        "# Similarly, if we can select specific elements, we can also set or modify their values\n",
        "data.iloc[0, 2] = 90\n",
        "data"
      ],
      "execution_count": null,
      "outputs": [
        {
          "output_type": "execute_result",
          "data": {
            "text/html": [
              "<div>\n",
              "<style scoped>\n",
              "    .dataframe tbody tr th:only-of-type {\n",
              "        vertical-align: middle;\n",
              "    }\n",
              "\n",
              "    .dataframe tbody tr th {\n",
              "        vertical-align: top;\n",
              "    }\n",
              "\n",
              "    .dataframe thead th {\n",
              "        text-align: right;\n",
              "    }\n",
              "</style>\n",
              "<table border=\"1\" class=\"dataframe\">\n",
              "  <thead>\n",
              "    <tr style=\"text-align: right;\">\n",
              "      <th></th>\n",
              "      <th>area</th>\n",
              "      <th>pop</th>\n",
              "      <th>density</th>\n",
              "    </tr>\n",
              "  </thead>\n",
              "  <tbody>\n",
              "    <tr>\n",
              "      <th>California</th>\n",
              "      <td>423967</td>\n",
              "      <td>38332521</td>\n",
              "      <td>90.000000</td>\n",
              "    </tr>\n",
              "    <tr>\n",
              "      <th>Texas</th>\n",
              "      <td>695662</td>\n",
              "      <td>26448193</td>\n",
              "      <td>38.018740</td>\n",
              "    </tr>\n",
              "    <tr>\n",
              "      <th>New York</th>\n",
              "      <td>141297</td>\n",
              "      <td>19651127</td>\n",
              "      <td>139.076746</td>\n",
              "    </tr>\n",
              "    <tr>\n",
              "      <th>Florida</th>\n",
              "      <td>170312</td>\n",
              "      <td>19552860</td>\n",
              "      <td>114.806121</td>\n",
              "    </tr>\n",
              "    <tr>\n",
              "      <th>Illinois</th>\n",
              "      <td>149995</td>\n",
              "      <td>12882135</td>\n",
              "      <td>85.883763</td>\n",
              "    </tr>\n",
              "  </tbody>\n",
              "</table>\n",
              "</div>"
            ],
            "text/plain": [
              "              area       pop     density\n",
              "California  423967  38332521   90.000000\n",
              "Texas       695662  26448193   38.018740\n",
              "New York    141297  19651127  139.076746\n",
              "Florida     170312  19552860  114.806121\n",
              "Illinois    149995  12882135   85.883763"
            ]
          },
          "metadata": {},
          "execution_count": 34
        }
      ]
    },
    {
      "cell_type": "markdown",
      "metadata": {
        "id": "f7Zn92-7y4y0"
      },
      "source": [
        "# Operating on Data in pandas"
      ]
    },
    {
      "cell_type": "markdown",
      "metadata": {
        "id": "AVUoMORWy4y0"
      },
      "source": [
        "\n",
        "Pandas inherits much of its operations functionality from NumPy, especially pulling from NumPy's universal functions or `ufuncs`.\n",
        "\n",
        "However, pandas does have some differences: \n",
        "- for unary operations like negation and trigonometric functions, ufuncs will *preserve index and column labels* in the output\n",
        "- binary operations such as addition and multiplication, pandas will automatically *align indices* when passing the objects to the ufunc.\n",
        "\n",
        "Note: Just like with NumPy, don't worry about memorizing these. Be aware that they exist and how to find their documentation"
      ]
    },
    {
      "cell_type": "markdown",
      "metadata": {
        "id": "ca_7rX9Gy4zo"
      },
      "source": [
        " Python operators and equivalent Pandas object methods:\n",
        "\n",
        "| Python Operator | Pandas Method(s)                      |\n",
        "|-----------------|---------------------------------------|\n",
        "| ``+``           | ``add()``                             |\n",
        "| ``-``           | ``sub()``, ``subtract()``             |\n",
        "| ``*``           | ``mul()``, ``multiply()``             |\n",
        "| ``/``           | ``truediv()``, ``div()``, ``divide()``|\n",
        "| ``//``          | ``floordiv()``                        |\n",
        "| ``%``           | ``mod()``                             |\n",
        "| ``**``          | ``pow()``                             |\n"
      ]
    },
    {
      "cell_type": "markdown",
      "metadata": {
        "id": "ci7neT4cy4y1"
      },
      "source": [
        "## Ufuncs: Index Preservation\n",
        "\n",
        "Any NumPy ufunc will work on pandas ``Series`` and ``DataFrame`` objects."
      ]
    },
    {
      "cell_type": "code",
      "metadata": {
        "id": "6vFkwZWXy4y9",
        "colab": {
          "base_uri": "https://localhost:8080/"
        },
        "outputId": "aadb1035-4ef0-4c64-cd26-9cb74374f03d"
      },
      "source": [
        "# Let's generate a random Series using a NumPy function\n",
        "rng = np.random.RandomState(42)  # `42` is the seed, which allows others to duplicate our random array\n",
        "ser = pd.Series(rng.randint(0, 10, 4))\n",
        "ser"
      ],
      "execution_count": null,
      "outputs": [
        {
          "output_type": "execute_result",
          "data": {
            "text/plain": [
              "0    6\n",
              "1    3\n",
              "2    7\n",
              "3    4\n",
              "dtype: int64"
            ]
          },
          "metadata": {},
          "execution_count": 35
        }
      ]
    },
    {
      "cell_type": "code",
      "metadata": {
        "id": "7tMLeJooy4zB",
        "colab": {
          "base_uri": "https://localhost:8080/",
          "height": 143
        },
        "outputId": "cd01940a-cb8b-43bf-f0c2-7f184fb7e786"
      },
      "source": [
        "# Similarly, we can generate a random DataFrame\n",
        "df = pd.DataFrame(rng.randint(0, 10, (3, 4)),\n",
        "                  columns=['A', 'B', 'C', 'D'])\n",
        "df"
      ],
      "execution_count": null,
      "outputs": [
        {
          "output_type": "execute_result",
          "data": {
            "text/html": [
              "<div>\n",
              "<style scoped>\n",
              "    .dataframe tbody tr th:only-of-type {\n",
              "        vertical-align: middle;\n",
              "    }\n",
              "\n",
              "    .dataframe tbody tr th {\n",
              "        vertical-align: top;\n",
              "    }\n",
              "\n",
              "    .dataframe thead th {\n",
              "        text-align: right;\n",
              "    }\n",
              "</style>\n",
              "<table border=\"1\" class=\"dataframe\">\n",
              "  <thead>\n",
              "    <tr style=\"text-align: right;\">\n",
              "      <th></th>\n",
              "      <th>A</th>\n",
              "      <th>B</th>\n",
              "      <th>C</th>\n",
              "      <th>D</th>\n",
              "    </tr>\n",
              "  </thead>\n",
              "  <tbody>\n",
              "    <tr>\n",
              "      <th>0</th>\n",
              "      <td>6</td>\n",
              "      <td>9</td>\n",
              "      <td>2</td>\n",
              "      <td>6</td>\n",
              "    </tr>\n",
              "    <tr>\n",
              "      <th>1</th>\n",
              "      <td>7</td>\n",
              "      <td>4</td>\n",
              "      <td>3</td>\n",
              "      <td>7</td>\n",
              "    </tr>\n",
              "    <tr>\n",
              "      <th>2</th>\n",
              "      <td>7</td>\n",
              "      <td>2</td>\n",
              "      <td>5</td>\n",
              "      <td>4</td>\n",
              "    </tr>\n",
              "  </tbody>\n",
              "</table>\n",
              "</div>"
            ],
            "text/plain": [
              "   A  B  C  D\n",
              "0  6  9  2  6\n",
              "1  7  4  3  7\n",
              "2  7  2  5  4"
            ]
          },
          "metadata": {},
          "execution_count": 36
        }
      ]
    },
    {
      "cell_type": "code",
      "metadata": {
        "id": "QH5Zr2nMy4zF",
        "colab": {
          "base_uri": "https://localhost:8080/",
          "height": 143
        },
        "outputId": "2dd49bc5-ed14-4b8e-9fe9-51e54175dad7"
      },
      "source": [
        "# Applying a NumPy ufunc on either of these pandas objects will generate another\n",
        "# pandas object *with the indices preserved.* \n",
        "# This means we can perform calculations without worrying about the order of the values.\n",
        "print(np.exp(ser))\n",
        "\n",
        "# So we can utilize more complex calculations:\n",
        "np.sin(df * np.pi / 4)"
      ],
      "execution_count": null,
      "outputs": [
        {
          "output_type": "execute_result",
          "data": {
            "text/html": [
              "<div>\n",
              "<style scoped>\n",
              "    .dataframe tbody tr th:only-of-type {\n",
              "        vertical-align: middle;\n",
              "    }\n",
              "\n",
              "    .dataframe tbody tr th {\n",
              "        vertical-align: top;\n",
              "    }\n",
              "\n",
              "    .dataframe thead th {\n",
              "        text-align: right;\n",
              "    }\n",
              "</style>\n",
              "<table border=\"1\" class=\"dataframe\">\n",
              "  <thead>\n",
              "    <tr style=\"text-align: right;\">\n",
              "      <th></th>\n",
              "      <th>A</th>\n",
              "      <th>B</th>\n",
              "      <th>C</th>\n",
              "      <th>D</th>\n",
              "    </tr>\n",
              "  </thead>\n",
              "  <tbody>\n",
              "    <tr>\n",
              "      <th>0</th>\n",
              "      <td>-1.000000</td>\n",
              "      <td>7.071068e-01</td>\n",
              "      <td>1.000000</td>\n",
              "      <td>-1.000000e+00</td>\n",
              "    </tr>\n",
              "    <tr>\n",
              "      <th>1</th>\n",
              "      <td>-0.707107</td>\n",
              "      <td>1.224647e-16</td>\n",
              "      <td>0.707107</td>\n",
              "      <td>-7.071068e-01</td>\n",
              "    </tr>\n",
              "    <tr>\n",
              "      <th>2</th>\n",
              "      <td>-0.707107</td>\n",
              "      <td>1.000000e+00</td>\n",
              "      <td>-0.707107</td>\n",
              "      <td>1.224647e-16</td>\n",
              "    </tr>\n",
              "  </tbody>\n",
              "</table>\n",
              "</div>"
            ],
            "text/plain": [
              "          A             B         C             D\n",
              "0 -1.000000  7.071068e-01  1.000000 -1.000000e+00\n",
              "1 -0.707107  1.224647e-16  0.707107 -7.071068e-01\n",
              "2 -0.707107  1.000000e+00 -0.707107  1.224647e-16"
            ]
          },
          "metadata": {},
          "execution_count": 37
        }
      ]
    },
    {
      "cell_type": "markdown",
      "metadata": {
        "id": "gn0jDr_by4zL"
      },
      "source": [
        "## UFuncs: Index Alignment\n",
        "\n",
        "For binary operations on two ``Series`` or ``DataFrame`` objects, pandas will align indices in the process of performing the operation."
      ]
    },
    {
      "cell_type": "markdown",
      "metadata": {
        "id": "PrNnqi4hy4zM"
      },
      "source": [
        "### Index alignment in Series"
      ]
    },
    {
      "cell_type": "code",
      "metadata": {
        "id": "ogJ0lXzPy4zM"
      },
      "source": [
        "# Suppose we are combining two different data sources --> \n",
        "# one contains US states by *area* and the other by *population*:\n",
        "area = pd.Series({'Alaska': 1723337, 'Texas': 695662,\n",
        "                  'California': 423967}, name='area')\n",
        "\n",
        "population = pd.Series({'California': 38332521, 'Texas': 26448193,\n",
        "                        'New York': 19651127}, name='population')"
      ],
      "execution_count": null,
      "outputs": []
    },
    {
      "cell_type": "code",
      "metadata": {
        "id": "J1ZnteXqy4zP",
        "colab": {
          "base_uri": "https://localhost:8080/"
        },
        "outputId": "d4f45cae-edb6-40d5-c2c2-455ece0794c4"
      },
      "source": [
        "# Note: the order of the states from above does not matter in the calculation below\n",
        "population / area"
      ],
      "execution_count": null,
      "outputs": [
        {
          "output_type": "execute_result",
          "data": {
            "text/plain": [
              "Alaska              NaN\n",
              "California    90.413926\n",
              "New York            NaN\n",
              "Texas         38.018740\n",
              "dtype: float64"
            ]
          },
          "metadata": {},
          "execution_count": 39
        }
      ]
    },
    {
      "cell_type": "code",
      "metadata": {
        "id": "qO43TQCqy4zV",
        "colab": {
          "base_uri": "https://localhost:8080/"
        },
        "outputId": "8a847f69-4f0b-4ee1-af8f-6d57108530e6"
      },
      "source": [
        "# What if there is unique data in one of the sources and we try to operate on the data?\n",
        "A = pd.Series([2, 4, 6], index=[0, 1, 2])\n",
        "B = pd.Series([1, 3, 5], index=[1, 2, 3])\n",
        "A + B"
      ],
      "execution_count": null,
      "outputs": [
        {
          "output_type": "execute_result",
          "data": {
            "text/plain": [
              "0    NaN\n",
              "1    5.0\n",
              "2    9.0\n",
              "3    NaN\n",
              "dtype: float64"
            ]
          },
          "metadata": {},
          "execution_count": 40
        }
      ]
    },
    {
      "cell_type": "code",
      "metadata": {
        "id": "V4ruxcJxy4zY",
        "colab": {
          "base_uri": "https://localhost:8080/"
        },
        "outputId": "c702fc2c-217f-4840-bb68-81a765a72c40"
      },
      "source": [
        "# Note: If NaN values are not desired, a fill value can be used for missing values:\n",
        "A.multiply(B, fill_value=0)"
      ],
      "execution_count": null,
      "outputs": [
        {
          "output_type": "execute_result",
          "data": {
            "text/plain": [
              "0     0.0\n",
              "1     4.0\n",
              "2    18.0\n",
              "3     0.0\n",
              "dtype: float64"
            ]
          },
          "metadata": {},
          "execution_count": 41
        }
      ]
    },
    {
      "cell_type": "markdown",
      "metadata": {
        "id": "i_rswpK1y4za"
      },
      "source": [
        "### Index alignment in DataFrame"
      ]
    },
    {
      "cell_type": "code",
      "metadata": {
        "id": "pJJBxOM6y4zb",
        "colab": {
          "base_uri": "https://localhost:8080/",
          "height": 112
        },
        "outputId": "a20af002-a8eb-4d90-8604-139bd55cd1ee"
      },
      "source": [
        "# Similar alignments take place for *both* columns and rows when operating on DataFrames:\n",
        "rng = np.random.RandomState(42)\n",
        "A = pd.DataFrame(rng.randint(0, 20, (2, 2)),\n",
        "                 columns=list('AB'))\n",
        "A"
      ],
      "execution_count": null,
      "outputs": [
        {
          "output_type": "execute_result",
          "data": {
            "text/html": [
              "<div>\n",
              "<style scoped>\n",
              "    .dataframe tbody tr th:only-of-type {\n",
              "        vertical-align: middle;\n",
              "    }\n",
              "\n",
              "    .dataframe tbody tr th {\n",
              "        vertical-align: top;\n",
              "    }\n",
              "\n",
              "    .dataframe thead th {\n",
              "        text-align: right;\n",
              "    }\n",
              "</style>\n",
              "<table border=\"1\" class=\"dataframe\">\n",
              "  <thead>\n",
              "    <tr style=\"text-align: right;\">\n",
              "      <th></th>\n",
              "      <th>A</th>\n",
              "      <th>B</th>\n",
              "    </tr>\n",
              "  </thead>\n",
              "  <tbody>\n",
              "    <tr>\n",
              "      <th>0</th>\n",
              "      <td>6</td>\n",
              "      <td>19</td>\n",
              "    </tr>\n",
              "    <tr>\n",
              "      <th>1</th>\n",
              "      <td>14</td>\n",
              "      <td>10</td>\n",
              "    </tr>\n",
              "  </tbody>\n",
              "</table>\n",
              "</div>"
            ],
            "text/plain": [
              "    A   B\n",
              "0   6  19\n",
              "1  14  10"
            ]
          },
          "metadata": {},
          "execution_count": 42
        }
      ]
    },
    {
      "cell_type": "code",
      "metadata": {
        "id": "hrmzxisHy4zf",
        "colab": {
          "base_uri": "https://localhost:8080/",
          "height": 143
        },
        "outputId": "2e4c9a1d-7427-4d9c-f31d-368e6c11eb19"
      },
      "source": [
        "B = pd.DataFrame(rng.randint(0, 10, (3, 3)),\n",
        "                 columns=list('BAC'))\n",
        "B"
      ],
      "execution_count": null,
      "outputs": [
        {
          "output_type": "execute_result",
          "data": {
            "text/html": [
              "<div>\n",
              "<style scoped>\n",
              "    .dataframe tbody tr th:only-of-type {\n",
              "        vertical-align: middle;\n",
              "    }\n",
              "\n",
              "    .dataframe tbody tr th {\n",
              "        vertical-align: top;\n",
              "    }\n",
              "\n",
              "    .dataframe thead th {\n",
              "        text-align: right;\n",
              "    }\n",
              "</style>\n",
              "<table border=\"1\" class=\"dataframe\">\n",
              "  <thead>\n",
              "    <tr style=\"text-align: right;\">\n",
              "      <th></th>\n",
              "      <th>B</th>\n",
              "      <th>A</th>\n",
              "      <th>C</th>\n",
              "    </tr>\n",
              "  </thead>\n",
              "  <tbody>\n",
              "    <tr>\n",
              "      <th>0</th>\n",
              "      <td>7</td>\n",
              "      <td>4</td>\n",
              "      <td>6</td>\n",
              "    </tr>\n",
              "    <tr>\n",
              "      <th>1</th>\n",
              "      <td>9</td>\n",
              "      <td>2</td>\n",
              "      <td>6</td>\n",
              "    </tr>\n",
              "    <tr>\n",
              "      <th>2</th>\n",
              "      <td>7</td>\n",
              "      <td>4</td>\n",
              "      <td>3</td>\n",
              "    </tr>\n",
              "  </tbody>\n",
              "</table>\n",
              "</div>"
            ],
            "text/plain": [
              "   B  A  C\n",
              "0  7  4  6\n",
              "1  9  2  6\n",
              "2  7  4  3"
            ]
          },
          "metadata": {},
          "execution_count": 43
        }
      ]
    },
    {
      "cell_type": "code",
      "metadata": {
        "id": "gvSdYiNky4zi",
        "colab": {
          "base_uri": "https://localhost:8080/",
          "height": 143
        },
        "outputId": "489337eb-c0ca-494c-8490-f4012b579341"
      },
      "source": [
        "A + B"
      ],
      "execution_count": null,
      "outputs": [
        {
          "output_type": "execute_result",
          "data": {
            "text/html": [
              "<div>\n",
              "<style scoped>\n",
              "    .dataframe tbody tr th:only-of-type {\n",
              "        vertical-align: middle;\n",
              "    }\n",
              "\n",
              "    .dataframe tbody tr th {\n",
              "        vertical-align: top;\n",
              "    }\n",
              "\n",
              "    .dataframe thead th {\n",
              "        text-align: right;\n",
              "    }\n",
              "</style>\n",
              "<table border=\"1\" class=\"dataframe\">\n",
              "  <thead>\n",
              "    <tr style=\"text-align: right;\">\n",
              "      <th></th>\n",
              "      <th>A</th>\n",
              "      <th>B</th>\n",
              "      <th>C</th>\n",
              "    </tr>\n",
              "  </thead>\n",
              "  <tbody>\n",
              "    <tr>\n",
              "      <th>0</th>\n",
              "      <td>10.0</td>\n",
              "      <td>26.0</td>\n",
              "      <td>NaN</td>\n",
              "    </tr>\n",
              "    <tr>\n",
              "      <th>1</th>\n",
              "      <td>16.0</td>\n",
              "      <td>19.0</td>\n",
              "      <td>NaN</td>\n",
              "    </tr>\n",
              "    <tr>\n",
              "      <th>2</th>\n",
              "      <td>NaN</td>\n",
              "      <td>NaN</td>\n",
              "      <td>NaN</td>\n",
              "    </tr>\n",
              "  </tbody>\n",
              "</table>\n",
              "</div>"
            ],
            "text/plain": [
              "      A     B   C\n",
              "0  10.0  26.0 NaN\n",
              "1  16.0  19.0 NaN\n",
              "2   NaN   NaN NaN"
            ]
          },
          "metadata": {},
          "execution_count": 44
        }
      ]
    },
    {
      "cell_type": "code",
      "metadata": {
        "id": "Mbfd4iCpy4zl",
        "colab": {
          "base_uri": "https://localhost:8080/",
          "height": 161
        },
        "outputId": "7017d84a-f287-4644-92ae-d6007ca96202"
      },
      "source": [
        "# Indices are aligned correctly irrespective of order and the result are sorted.\n",
        "# Similar to Series, we can pass a fill_value in place of missing entries.\n",
        "fill = A.stack().mean()\n",
        "print(fill)\n",
        "A.add(B, fill_value=fill)"
      ],
      "execution_count": null,
      "outputs": [
        {
          "output_type": "stream",
          "name": "stdout",
          "text": [
            "12.25\n"
          ]
        },
        {
          "output_type": "execute_result",
          "data": {
            "text/html": [
              "<div>\n",
              "<style scoped>\n",
              "    .dataframe tbody tr th:only-of-type {\n",
              "        vertical-align: middle;\n",
              "    }\n",
              "\n",
              "    .dataframe tbody tr th {\n",
              "        vertical-align: top;\n",
              "    }\n",
              "\n",
              "    .dataframe thead th {\n",
              "        text-align: right;\n",
              "    }\n",
              "</style>\n",
              "<table border=\"1\" class=\"dataframe\">\n",
              "  <thead>\n",
              "    <tr style=\"text-align: right;\">\n",
              "      <th></th>\n",
              "      <th>A</th>\n",
              "      <th>B</th>\n",
              "      <th>C</th>\n",
              "    </tr>\n",
              "  </thead>\n",
              "  <tbody>\n",
              "    <tr>\n",
              "      <th>0</th>\n",
              "      <td>10.00</td>\n",
              "      <td>26.00</td>\n",
              "      <td>18.25</td>\n",
              "    </tr>\n",
              "    <tr>\n",
              "      <th>1</th>\n",
              "      <td>16.00</td>\n",
              "      <td>19.00</td>\n",
              "      <td>18.25</td>\n",
              "    </tr>\n",
              "    <tr>\n",
              "      <th>2</th>\n",
              "      <td>16.25</td>\n",
              "      <td>19.25</td>\n",
              "      <td>15.25</td>\n",
              "    </tr>\n",
              "  </tbody>\n",
              "</table>\n",
              "</div>"
            ],
            "text/plain": [
              "       A      B      C\n",
              "0  10.00  26.00  18.25\n",
              "1  16.00  19.00  18.25\n",
              "2  16.25  19.25  15.25"
            ]
          },
          "metadata": {},
          "execution_count": 45
        }
      ]
    },
    {
      "cell_type": "markdown",
      "metadata": {
        "id": "tEsNpu9Oy4zo"
      },
      "source": [
        "## Ufuncs: Operations Between DataFrame and Series"
      ]
    },
    {
      "cell_type": "code",
      "metadata": {
        "id": "KrnyGo60y4zp",
        "colab": {
          "base_uri": "https://localhost:8080/"
        },
        "outputId": "9540cce0-5ed9-4249-d809-6f7cc0dec0a0"
      },
      "source": [
        "# When performing operations between a DataFrame and a Series, index and column \n",
        "# alignments are similarly maintained.\n",
        "\n",
        "# Let's start with a NumPy array A\n",
        "rng = np.random.RandomState(42)\n",
        "A = rng.randint(10, size=(3, 4))\n",
        "A"
      ],
      "execution_count": null,
      "outputs": [
        {
          "output_type": "execute_result",
          "data": {
            "text/plain": [
              "array([[6, 3, 7, 4],\n",
              "       [6, 9, 2, 6],\n",
              "       [7, 4, 3, 7]])"
            ]
          },
          "metadata": {},
          "execution_count": 46
        }
      ]
    },
    {
      "cell_type": "code",
      "metadata": {
        "id": "7uBH44Wzy4zr",
        "colab": {
          "base_uri": "https://localhost:8080/"
        },
        "outputId": "f8644149-61d4-4683-8f83-0bcf0db7b416"
      },
      "source": [
        "# Here, we're subtracting the values in the first row from every other row in \n",
        "# the NumPy ndarray A\n",
        "A - A[0]"
      ],
      "execution_count": null,
      "outputs": [
        {
          "output_type": "execute_result",
          "data": {
            "text/plain": [
              "array([[ 0,  0,  0,  0],\n",
              "       [ 0,  6, -5,  2],\n",
              "       [ 1,  1, -4,  3]])"
            ]
          },
          "metadata": {},
          "execution_count": 47
        }
      ]
    },
    {
      "cell_type": "code",
      "metadata": {
        "id": "0Mlu5y7Zy4zw",
        "colab": {
          "base_uri": "https://localhost:8080/",
          "height": 143
        },
        "outputId": "0ddf3b07-4368-4d1b-a1a9-85d7e1d2299d"
      },
      "source": [
        "# According to NumPy's broadcasting rules, subtraction between a 2D array \n",
        "# and a row is applied row-wise. Pandas also follows this convention by default.\n",
        "\n",
        "# Let's convert the ndarray into a DataFrame\n",
        "df = pd.DataFrame(A, columns=list('QRST'))\n",
        "df"
      ],
      "execution_count": null,
      "outputs": [
        {
          "output_type": "execute_result",
          "data": {
            "text/html": [
              "<div>\n",
              "<style scoped>\n",
              "    .dataframe tbody tr th:only-of-type {\n",
              "        vertical-align: middle;\n",
              "    }\n",
              "\n",
              "    .dataframe tbody tr th {\n",
              "        vertical-align: top;\n",
              "    }\n",
              "\n",
              "    .dataframe thead th {\n",
              "        text-align: right;\n",
              "    }\n",
              "</style>\n",
              "<table border=\"1\" class=\"dataframe\">\n",
              "  <thead>\n",
              "    <tr style=\"text-align: right;\">\n",
              "      <th></th>\n",
              "      <th>Q</th>\n",
              "      <th>R</th>\n",
              "      <th>S</th>\n",
              "      <th>T</th>\n",
              "    </tr>\n",
              "  </thead>\n",
              "  <tbody>\n",
              "    <tr>\n",
              "      <th>0</th>\n",
              "      <td>6</td>\n",
              "      <td>3</td>\n",
              "      <td>7</td>\n",
              "      <td>4</td>\n",
              "    </tr>\n",
              "    <tr>\n",
              "      <th>1</th>\n",
              "      <td>6</td>\n",
              "      <td>9</td>\n",
              "      <td>2</td>\n",
              "      <td>6</td>\n",
              "    </tr>\n",
              "    <tr>\n",
              "      <th>2</th>\n",
              "      <td>7</td>\n",
              "      <td>4</td>\n",
              "      <td>3</td>\n",
              "      <td>7</td>\n",
              "    </tr>\n",
              "  </tbody>\n",
              "</table>\n",
              "</div>"
            ],
            "text/plain": [
              "   Q  R  S  T\n",
              "0  6  3  7  4\n",
              "1  6  9  2  6\n",
              "2  7  4  3  7"
            ]
          },
          "metadata": {},
          "execution_count": 48
        }
      ]
    },
    {
      "cell_type": "code",
      "metadata": {
        "colab": {
          "base_uri": "https://localhost:8080/",
          "height": 143
        },
        "id": "ExGgGLk145ri",
        "outputId": "79aab034-1d0d-43b9-99c9-e1b86cd67c44"
      },
      "source": [
        "# As expected, subtraction from the DataFrame produces the same row-wise output\n",
        "df - df.iloc[0]"
      ],
      "execution_count": null,
      "outputs": [
        {
          "output_type": "execute_result",
          "data": {
            "text/html": [
              "<div>\n",
              "<style scoped>\n",
              "    .dataframe tbody tr th:only-of-type {\n",
              "        vertical-align: middle;\n",
              "    }\n",
              "\n",
              "    .dataframe tbody tr th {\n",
              "        vertical-align: top;\n",
              "    }\n",
              "\n",
              "    .dataframe thead th {\n",
              "        text-align: right;\n",
              "    }\n",
              "</style>\n",
              "<table border=\"1\" class=\"dataframe\">\n",
              "  <thead>\n",
              "    <tr style=\"text-align: right;\">\n",
              "      <th></th>\n",
              "      <th>Q</th>\n",
              "      <th>R</th>\n",
              "      <th>S</th>\n",
              "      <th>T</th>\n",
              "    </tr>\n",
              "  </thead>\n",
              "  <tbody>\n",
              "    <tr>\n",
              "      <th>0</th>\n",
              "      <td>0</td>\n",
              "      <td>0</td>\n",
              "      <td>0</td>\n",
              "      <td>0</td>\n",
              "    </tr>\n",
              "    <tr>\n",
              "      <th>1</th>\n",
              "      <td>0</td>\n",
              "      <td>6</td>\n",
              "      <td>-5</td>\n",
              "      <td>2</td>\n",
              "    </tr>\n",
              "    <tr>\n",
              "      <th>2</th>\n",
              "      <td>1</td>\n",
              "      <td>1</td>\n",
              "      <td>-4</td>\n",
              "      <td>3</td>\n",
              "    </tr>\n",
              "  </tbody>\n",
              "</table>\n",
              "</div>"
            ],
            "text/plain": [
              "   Q  R  S  T\n",
              "0  0  0  0  0\n",
              "1  0  6 -5  2\n",
              "2  1  1 -4  3"
            ]
          },
          "metadata": {},
          "execution_count": 49
        }
      ]
    },
    {
      "cell_type": "code",
      "metadata": {
        "id": "ciOMDgNny4z0",
        "colab": {
          "base_uri": "https://localhost:8080/",
          "height": 143
        },
        "outputId": "bc45345b-f733-41b5-e1e2-b316a895ab03"
      },
      "source": [
        "# To operate on columns in a DataFrame, we need to explicitly set the `axis`:\n",
        "df.subtract(df['Q'], axis=0)"
      ],
      "execution_count": null,
      "outputs": [
        {
          "output_type": "execute_result",
          "data": {
            "text/html": [
              "<div>\n",
              "<style scoped>\n",
              "    .dataframe tbody tr th:only-of-type {\n",
              "        vertical-align: middle;\n",
              "    }\n",
              "\n",
              "    .dataframe tbody tr th {\n",
              "        vertical-align: top;\n",
              "    }\n",
              "\n",
              "    .dataframe thead th {\n",
              "        text-align: right;\n",
              "    }\n",
              "</style>\n",
              "<table border=\"1\" class=\"dataframe\">\n",
              "  <thead>\n",
              "    <tr style=\"text-align: right;\">\n",
              "      <th></th>\n",
              "      <th>Q</th>\n",
              "      <th>R</th>\n",
              "      <th>S</th>\n",
              "      <th>T</th>\n",
              "    </tr>\n",
              "  </thead>\n",
              "  <tbody>\n",
              "    <tr>\n",
              "      <th>0</th>\n",
              "      <td>0</td>\n",
              "      <td>-3</td>\n",
              "      <td>1</td>\n",
              "      <td>-2</td>\n",
              "    </tr>\n",
              "    <tr>\n",
              "      <th>1</th>\n",
              "      <td>0</td>\n",
              "      <td>3</td>\n",
              "      <td>-4</td>\n",
              "      <td>0</td>\n",
              "    </tr>\n",
              "    <tr>\n",
              "      <th>2</th>\n",
              "      <td>0</td>\n",
              "      <td>-3</td>\n",
              "      <td>-4</td>\n",
              "      <td>0</td>\n",
              "    </tr>\n",
              "  </tbody>\n",
              "</table>\n",
              "</div>"
            ],
            "text/plain": [
              "   Q  R  S  T\n",
              "0  0 -3  1 -2\n",
              "1  0  3 -4  0\n",
              "2  0 -3 -4  0"
            ]
          },
          "metadata": {},
          "execution_count": 50
        }
      ]
    },
    {
      "cell_type": "markdown",
      "metadata": {
        "id": "Rsm3eyG-y4z7"
      },
      "source": [
        "Preservation and alignment of indices and columns means that operations on data in pandas will always maintain the data context thus preventing the types of errors that arise when working with heterogeneous and/or misaligned data in  NumPy."
      ]
    }
  ]
}